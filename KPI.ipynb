{
 "cells": [
  {
   "cell_type": "markdown",
   "metadata": {},
   "source": [
    "## KPI (key performance indicators) \n",
    "are metrics you track to measure the success of your performance and whether you're achieving your objectives.\n",
    "\n",
    "- They support your main goals.\n",
    "\n",
    "- They answer two main questions: \n",
    "     - What are you trying to achieve?\n",
    "     - What would success look like?"
   ]
  },
  {
   "cell_type": "markdown",
   "metadata": {},
   "source": [
    "## S.M.A.R.T\n",
    "\n",
    "- Specific\n",
    "- Measurable\n",
    "- Attainable\n",
    "- Relevant\n",
    "- Time-bound"
   ]
  },
  {
   "cell_type": "markdown",
   "metadata": {},
   "source": [
    "Reduce classic bike trips without endstation with 10% in the next 3 month\n",
    "\n",
    "- Specific: Classic Bike trips with no end station\n",
    "- Measurable: 10%\n",
    "- Attainable:  need investigation\n",
    "- Relevant: Not to loose bikes\n",
    "- Time-bound: 3 month\n",
    "\n"
   ]
  },
  {
   "cell_type": "code",
   "execution_count": 6,
   "metadata": {},
   "outputs": [],
   "source": [
    "import pandas as pd\n",
    "from zipfile import ZipFile\n",
    "from io import BytesIO\n",
    "import requests\n",
    "\n",
    "url08 = 'https://s3.amazonaws.com/capitalbikeshare-data/202308-capitalbikeshare-tripdata.zip'\n",
    "url09='https://s3.amazonaws.com/capitalbikeshare-data/202309-capitalbikeshare-tripdata.zip'\n",
    "url10='https://s3.amazonaws.com/capitalbikeshare-data/202310-capitalbikeshare-tripdata.zip'\n",
    "\n",
    "def import_csv_from_zip (url):\n",
    "    r = requests.get(url)\n",
    "    buf1 = BytesIO(r.content)\n",
    "    with ZipFile(buf1, \"r\") as f:\n",
    "        for name in f.namelist():\n",
    "            if name.endswith('.csv'):\n",
    "                with f.open(name) as zd:\n",
    "                    df = pd.read_csv(zd)\n",
    "                    return df\n",
    "            "
   ]
  },
  {
   "cell_type": "code",
   "execution_count": 7,
   "metadata": {},
   "outputs": [],
   "source": [
    "trip08=import_csv_from_zip(url08)\n",
    "trip09=import_csv_from_zip(url09)\n",
    "trip10=import_csv_from_zip(url10)\n"
   ]
  },
  {
   "cell_type": "code",
   "execution_count": 8,
   "metadata": {},
   "outputs": [],
   "source": [
    "\n",
    "\n",
    "trip_import08= trip08.copy()\n",
    "trip_import09= trip09.copy()\n",
    "trip_import10= trip10.copy()\n",
    "\n"
   ]
  },
  {
   "cell_type": "code",
   "execution_count": 9,
   "metadata": {},
   "outputs": [
    {
     "name": "stdout",
     "output_type": "stream",
     "text": [
      "<class 'pandas.core.frame.DataFrame'>\n",
      "RangeIndex: 491084 entries, 0 to 491083\n",
      "Data columns (total 13 columns):\n",
      " #   Column              Non-Null Count   Dtype  \n",
      "---  ------              --------------   -----  \n",
      " 0   ride_id             491084 non-null  object \n",
      " 1   rideable_type       491084 non-null  object \n",
      " 2   started_at          491084 non-null  object \n",
      " 3   ended_at            491084 non-null  object \n",
      " 4   start_station_name  434475 non-null  object \n",
      " 5   start_station_id    434475 non-null  float64\n",
      " 6   end_station_name    431026 non-null  object \n",
      " 7   end_station_id      431026 non-null  float64\n",
      " 8   start_lat           491084 non-null  float64\n",
      " 9   start_lng           491084 non-null  float64\n",
      " 10  end_lat             490538 non-null  float64\n",
      " 11  end_lng             490538 non-null  float64\n",
      " 12  member_casual       491084 non-null  object \n",
      "dtypes: float64(6), object(7)\n",
      "memory usage: 48.7+ MB\n"
     ]
    }
   ],
   "source": [
    "trip_import10.info()"
   ]
  },
  {
   "cell_type": "markdown",
   "metadata": {},
   "source": [
    "## filter lost classic bikes"
   ]
  },
  {
   "cell_type": "code",
   "execution_count": 10,
   "metadata": {},
   "outputs": [
    {
     "name": "stdout",
     "output_type": "stream",
     "text": [
      "rideable_type\n",
      "electric_bike    44459\n",
      "classic_bike       438\n",
      "docked_bike        186\n",
      "Name: count, dtype: int64\n",
      "rideable_type\n",
      "electric_bike    46651\n",
      "classic_bike       650\n",
      "docked_bike         95\n",
      "Name: count, dtype: int64\n",
      "rideable_type\n",
      "electric_bike    59395\n",
      "classic_bike       663\n",
      "Name: count, dtype: int64\n"
     ]
    }
   ],
   "source": [
    "def no_return_classic_df(df):\n",
    "    # boolean mask for bikes with no end station\n",
    "    no_end_trip = df['end_station_name'].isnull()\n",
    "    # df with trips with no endstation\n",
    "    trips_no_end_filtered = df[no_end_trip]\n",
    "    # bike type for bikes with no end station\n",
    "    by_bike_trips_no_end_filtered=trips_no_end_filtered['rideable_type'].value_counts()\n",
    "    trips_no_end_classic = trips_no_end_filtered[trips_no_end_filtered['rideable_type']=='classic_bike']\n",
    "    print(by_bike_trips_no_end_filtered)\n",
    "    return trips_no_end_classic\n",
    "\n",
    "no_return_classic_08=no_return_classic_df(trip_import08)\n",
    "no_return_classic_09=no_return_classic_df(trip_import09)\n",
    "no_return_classic_10=no_return_classic_df(trip_import10)\n",
    "\n",
    "\n",
    "\n"
   ]
  },
  {
   "cell_type": "code",
   "execution_count": 11,
   "metadata": {},
   "outputs": [
    {
     "name": "stdout",
     "output_type": "stream",
     "text": [
      "<class 'pandas.core.frame.DataFrame'>\n",
      "Index: 663 entries, 24954 to 491070\n",
      "Data columns (total 13 columns):\n",
      " #   Column              Non-Null Count  Dtype  \n",
      "---  ------              --------------  -----  \n",
      " 0   ride_id             663 non-null    object \n",
      " 1   rideable_type       663 non-null    object \n",
      " 2   started_at          663 non-null    object \n",
      " 3   ended_at            663 non-null    object \n",
      " 4   start_station_name  662 non-null    object \n",
      " 5   start_station_id    662 non-null    float64\n",
      " 6   end_station_name    0 non-null      object \n",
      " 7   end_station_id      0 non-null      float64\n",
      " 8   start_lat           663 non-null    float64\n",
      " 9   start_lng           663 non-null    float64\n",
      " 10  end_lat             117 non-null    float64\n",
      " 11  end_lng             117 non-null    float64\n",
      " 12  member_casual       663 non-null    object \n",
      "dtypes: float64(6), object(7)\n",
      "memory usage: 72.5+ KB\n",
      "<class 'pandas.core.frame.DataFrame'>\n",
      "Index: 650 entries, 1799 to 384872\n",
      "Data columns (total 13 columns):\n",
      " #   Column              Non-Null Count  Dtype  \n",
      "---  ------              --------------  -----  \n",
      " 0   ride_id             650 non-null    object \n",
      " 1   rideable_type       650 non-null    object \n",
      " 2   started_at          650 non-null    object \n",
      " 3   ended_at            650 non-null    object \n",
      " 4   start_station_name  649 non-null    object \n",
      " 5   start_station_id    649 non-null    float64\n",
      " 6   end_station_name    0 non-null      object \n",
      " 7   end_station_id      0 non-null      float64\n",
      " 8   start_lat           650 non-null    float64\n",
      " 9   start_lng           650 non-null    float64\n",
      " 10  end_lat             80 non-null     float64\n",
      " 11  end_lng             80 non-null     float64\n",
      " 12  member_casual       650 non-null    object \n",
      "dtypes: float64(6), object(7)\n",
      "memory usage: 71.1+ KB\n",
      "<class 'pandas.core.frame.DataFrame'>\n",
      "Index: 438 entries, 2842 to 322472\n",
      "Data columns (total 13 columns):\n",
      " #   Column              Non-Null Count  Dtype  \n",
      "---  ------              --------------  -----  \n",
      " 0   ride_id             438 non-null    object \n",
      " 1   rideable_type       438 non-null    object \n",
      " 2   started_at          438 non-null    object \n",
      " 3   ended_at            438 non-null    object \n",
      " 4   start_station_name  438 non-null    object \n",
      " 5   start_station_id    438 non-null    float64\n",
      " 6   end_station_name    0 non-null      object \n",
      " 7   end_station_id      0 non-null      float64\n",
      " 8   start_lat           438 non-null    float64\n",
      " 9   start_lng           438 non-null    float64\n",
      " 10  end_lat             50 non-null     float64\n",
      " 11  end_lng             50 non-null     float64\n",
      " 12  member_casual       438 non-null    object \n",
      "dtypes: float64(6), object(7)\n",
      "memory usage: 47.9+ KB\n"
     ]
    }
   ],
   "source": [
    "no_return_classic_10.info()\n",
    "no_return_classic_09.info()\n",
    "no_return_classic_08.info()"
   ]
  },
  {
   "cell_type": "markdown",
   "metadata": {},
   "source": [
    "## find patterns on non returned bikes"
   ]
  },
  {
   "cell_type": "code",
   "execution_count": 12,
   "metadata": {},
   "outputs": [
    {
     "name": "stdout",
     "output_type": "stream",
     "text": [
      "member member_casual\n",
      "casual    303\n",
      "member    135\n",
      "Name: count, dtype: int64\n",
      "start_station start_station_name\n",
      "Smithsonian-National Mall / Jefferson Dr & 12th St SW    8\n",
      "17th & K St NW                                           6\n",
      "Jefferson Dr & 14th St SW                                5\n",
      "8th & H St NE                                            4\n",
      "16th & Irving St NW                                      4\n",
      "                                                        ..\n",
      "Fenton St & New York Ave                                 1\n",
      "Oklahoma Ave & D St NE                                   1\n",
      "Georgia & New Hampshire Ave NW                           1\n",
      "Pleasant St & MLK Ave SE                                 1\n",
      "Montgomery Ave & Waverly St                              1\n",
      "Name: count, Length: 281, dtype: int64\n",
      "member member_casual\n",
      "casual    395\n",
      "member    255\n",
      "Name: count, dtype: int64\n",
      "start_station start_station_name\n",
      "Columbus Circle / Union Station                   10\n",
      "West Hyattsville Metro                            10\n",
      "1st & M St NE                                     10\n",
      "Jefferson Dr & 14th St SW                          8\n",
      "1st & I St SE                                      8\n",
      "                                                  ..\n",
      "Georgia Ave & Spring St                            1\n",
      "New Hampshire & Gallatin St NW                     1\n",
      "California St & Florida Ave NW                     1\n",
      "12th St & Pennsylvania Ave SE                      1\n",
      "Montgomery College / W Campus Dr & Mannakee St     1\n",
      "Name: count, Length: 343, dtype: int64\n",
      "member member_casual\n",
      "casual    400\n",
      "member    263\n",
      "Name: count, dtype: int64\n",
      "start_station start_station_name\n",
      "Jefferson Dr & 14th St SW                                11\n",
      "New Hampshire Ave & T St NW                               7\n",
      "Smithsonian-National Mall / Jefferson Dr & 12th St SW     7\n",
      "Eastern Market Metro / Pennsylvania Ave & 8th St SE       7\n",
      "Massachusetts Ave & Dupont Circle NW                      6\n",
      "                                                         ..\n",
      "Shady Grove Metro West                                    1\n",
      "Iwo Jima Memorial / Meade & 14th St N                     1\n",
      "New Jersey Ave & K St NW                                  1\n",
      "20th St & Florida Ave NW                                  1\n",
      "1st & Rhode Island Ave NW                                 1\n",
      "Name: count, Length: 337, dtype: int64\n"
     ]
    }
   ],
   "source": [
    "\n",
    "\n",
    "def patter_no_return(df):\n",
    "    # by unique member status\n",
    "    member_type_no_return = df['member_casual'].value_counts()\n",
    "    print('member', member_type_no_return)\n",
    "\n",
    "    #by_unique start station\n",
    "    start_no_return = df['start_station_name'].value_counts()\n",
    "    print('start_station', start_no_return)\n",
    "\n",
    "patter_no_return(no_return_classic_08)\n",
    "patter_no_return(no_return_classic_09)\n",
    "patter_no_return(no_return_classic_10)\n",
    "\n"
   ]
  }
 ],
 "metadata": {
  "kernelspec": {
   "display_name": "base",
   "language": "python",
   "name": "python3"
  },
  "language_info": {
   "codemirror_mode": {
    "name": "ipython",
    "version": 3
   },
   "file_extension": ".py",
   "mimetype": "text/x-python",
   "name": "python",
   "nbconvert_exporter": "python",
   "pygments_lexer": "ipython3",
   "version": "3.11.5"
  }
 },
 "nbformat": 4,
 "nbformat_minor": 2
}
